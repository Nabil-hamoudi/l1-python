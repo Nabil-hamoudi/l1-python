{
 "cells": [
  {
   "cell_type": "markdown",
   "metadata": {},
   "source": [
    "Qu'est-ce qu'un pixel ?\n",
    "\n",
    "Quel format de stockage utilise-t-on ?"
   ]
  },
  {
   "cell_type": "markdown",
   "metadata": {},
   "source": [
    "# Matrices"
   ]
  },
  {
   "cell_type": "markdown",
   "metadata": {},
   "source": [
    "Créer une matrice avec 3 lignes et 4 colonnes"
   ]
  },
  {
   "cell_type": "code",
   "execution_count": 2,
   "metadata": {},
   "outputs": [],
   "source": [
    "#définir la matrice sans utiliser de boucles\n",
    "mat = [[0, 0, 0, 0], [0, 0, 0, 0], [0, 0, 0, 0]]"
   ]
  },
  {
   "cell_type": "markdown",
   "metadata": {},
   "source": [
    "Faire une fonction `nbrCol(matrice)` qui retourne le nombre de colonnes d'une matrice \n",
    "et une fonction `nbrLig(matrice)` qui retourne le nombre de lignes d'une matrice"
   ]
  },
  {
   "cell_type": "code",
   "execution_count": 3,
   "metadata": {},
   "outputs": [
    {
     "output_type": "stream",
     "name": "stdout",
     "text": [
      "4\n3\n"
     ]
    }
   ],
   "source": [
    "def nbrCol(matrice):\n",
    "    return len(matrice[0])\n",
    "\n",
    "def nbrLig(matrice):\n",
    "    return len(matrice)\n",
    "\n",
    "print(nbrCol(mat))\n",
    "print(nbrLig(mat))"
   ]
  },
  {
   "cell_type": "markdown",
   "metadata": {},
   "source": [
    "Remplir la matrice précédente de 9 en utilisant deux boucles sur les index de la matrice."
   ]
  },
  {
   "cell_type": "code",
   "execution_count": 4,
   "metadata": {},
   "outputs": [
    {
     "output_type": "execute_result",
     "data": {
      "text/plain": [
       "[[9, 9, 9, 9], [9, 9, 9, 9], [9, 9, 9, 9]]"
      ]
     },
     "metadata": {},
     "execution_count": 4
    }
   ],
   "source": [
    "def rempli9(matrice):\n",
    "    IndexCol = nbrCol(matrice)\n",
    "    IndexLig = nbrLig(matrice)\n",
    "    res = []\n",
    "    for i in range(IndexLig):\n",
    "        res.append([])\n",
    "        for u in range(IndexCol):\n",
    "            res[i].append(9)\n",
    "    return res\n",
    "\n",
    "rempli9(mat)"
   ]
  },
  {
   "cell_type": "markdown",
   "metadata": {},
   "source": [
    "Maintenant, remplir la matrice de 8 en parcourant les lignes, puis une boucle avec un index sur chacune de ces lignes."
   ]
  },
  {
   "cell_type": "code",
   "execution_count": 5,
   "metadata": {},
   "outputs": [
    {
     "output_type": "execute_result",
     "data": {
      "text/plain": [
       "[[8, 8, 8, 8], [8, 8, 8, 8], [8, 8, 8, 8]]"
      ]
     },
     "metadata": {},
     "execution_count": 5
    }
   ],
   "source": [
    "def rempli8(matrice):\n",
    "    res = []\n",
    "    for i in matrice:\n",
    "        for u in range(len(i)):\n",
    "            i.remove(i[u])\n",
    "            i.insert(u, 8)\n",
    "        res.append(i)\n",
    "    return res\n",
    "\n",
    "rempli8(mat)"
   ]
  },
  {
   "cell_type": "markdown",
   "metadata": {},
   "source": [
    "Créer une matrice de taille 50x50 qui ne contient que des 3."
   ]
  },
  {
   "cell_type": "code",
   "execution_count": 6,
   "metadata": {},
   "outputs": [],
   "source": [
    "mat = [[3 for i in range(50)] for u in range(50)]"
   ]
  },
  {
   "cell_type": "markdown",
   "metadata": {},
   "source": [
    "# Matrice de Pixels"
   ]
  },
  {
   "cell_type": "markdown",
   "metadata": {},
   "source": [
    "Importer les librairies suivantes :"
   ]
  },
  {
   "cell_type": "code",
   "execution_count": 7,
   "metadata": {},
   "outputs": [],
   "source": [
    "import tkinter as tk\n",
    "import PIL as pil\n",
    "from PIL import Image\n",
    "from PIL import ImageTk \n",
    "from tkinter import filedialog\n",
    "from tkinter import simpledialog"
   ]
  },
  {
   "cell_type": "markdown",
   "metadata": {},
   "source": [
    "Ajouter la fonction suivante à votre code, on ne demande pas de la comprendre en détail.\n",
    "Elle permet de stocker la matrice de pixels passée en paramètre `matPix` dans un fichier spécifié par `filename`."
   ]
  },
  {
   "cell_type": "code",
   "execution_count": 8,
   "metadata": {},
   "outputs": [],
   "source": [
    "def saving(matPix, filename):\n",
    "    toSave=pil.Image.new(\"RGBA\",(nbrCol(matPix),nbrLig(matPix)))\n",
    "    for i in range(nbrCol(matPix)):\n",
    "        for j in range(nbrLig(matPix)):\n",
    "            toSave.putpixel((i,j),matPix[j][i])\n",
    "    toSave.save(filename)"
   ]
  },
  {
   "cell_type": "markdown",
   "metadata": {},
   "source": [
    "Créer une matrice de pixels de taille 100x100 ainsi qu'une fonction qui rempli de pixels verts dans la moitié gauche et bleue dans la moitié droite de la matrice.\n",
    "Afin de visualiser l'image obtenue, on utilisera la fonction `saving` et on ouvre le fichier ainsi généré."
   ]
  },
  {
   "cell_type": "code",
   "execution_count": 9,
   "metadata": {
    "tags": []
   },
   "outputs": [],
   "source": [
    "mat = [[(0, 0, 0, 0) for i in range(100)] for u in range(100)]\n",
    "\n",
    "def VertBleu(matrice):\n",
    "    res = []\n",
    "    IndexCol = nbrCol(matrice)\n",
    "    IndexLig = nbrLig(matrice)\n",
    "    IndexColHalf = IndexCol // 2\n",
    "    for i in matrice:\n",
    "        for u in range(IndexCol):\n",
    "            if u <= IndexColHalf:\n",
    "                i[u] = (0, 255, 0, 255)\n",
    "            elif u > IndexColHalf:\n",
    "                i[u] = (0, 0, 255, 255)\n",
    "        res.append(i)\n",
    "    return res\n",
    "saving(VertBleu(mat), \"VertBleu.png\")"
   ]
  },
  {
   "cell_type": "markdown",
   "metadata": {},
   "source": [
    "Ajouter la fonction `loading` à votre code. Là non plus on ne demande pas de comprendre la fonction en détail.\n",
    "Elle prend une image en entrée et retourne une matrice de pixels."
   ]
  },
  {
   "cell_type": "code",
   "execution_count": 10,
   "metadata": {},
   "outputs": [],
   "source": [
    "def loading(filename):\n",
    "    toLoad=pil.Image.open(filename)\n",
    "    mat=[[(255,255,255,255)]*toLoad.size[0] for k in range(toLoad.size[1])]\n",
    "    for i in range(toLoad.size[1]):\n",
    "        for j in range(toLoad.size[0]):\n",
    "            mat[i][j]=toLoad.getpixel((j,i))\n",
    "    return mat"
   ]
  },
  {
   "cell_type": "markdown",
   "metadata": {},
   "source": [
    "En vous servant de la fonction 'loading', calculer le nombre de pixels dans une image `.bmp` de votre choix, puis calculer la taille de l'image en octets. Comparer avec la taille donnée par votre machine."
   ]
  },
  {
   "cell_type": "code",
   "execution_count": 11,
   "metadata": {
    "tags": []
   },
   "outputs": [
    {
     "output_type": "stream",
     "name": "stdout",
     "text": [
      "1664960\n"
     ]
    }
   ],
   "source": [
    "mat = loading(\"TestBMP.bmp\")\n",
    "print((nbrCol(mat) * nbrLig(mat)) * 4)\n",
    "#taille de l'image = nombre de pixels x taille d'un pixel en octet"
   ]
  },
  {
   "cell_type": "markdown",
   "metadata": {},
   "source": [
    "A l'aide de la fonction `loading`, modifier une image en ajoutant un rectangle noir au milieu de l'image."
   ]
  },
  {
   "cell_type": "code",
   "execution_count": 12,
   "metadata": {},
   "outputs": [],
   "source": [
    "matrice=loading(\"vertbleu.png\")\n",
    "\n",
    "def ajouteCarreNoir(matrice):\n",
    "    res = []\n",
    "    IndexCol = nbrCol(matrice)\n",
    "    IndexLig = nbrLig(matrice)\n",
    "    IndexColQuarter = IndexCol // 4\n",
    "    IndexLigQuarter = IndexLig // 4\n",
    "    for n, i in enumerate(matrice):\n",
    "        if n >= IndexLigQuarter and n <= 3 * IndexLigQuarter:\n",
    "            for u in range(IndexCol):\n",
    "                if u <= 3 * IndexColQuarter and u >= IndexColQuarter:\n",
    "                    i[u] = (0, 0, 0, 255)\n",
    "        res.append(i)\n",
    "    return res\n",
    "\n",
    "ajouteCarreNoir(matrice)\n",
    "saving(matrice,\"vertbleumodif.png\")"
   ]
  },
  {
   "cell_type": "markdown",
   "metadata": {},
   "source": [
    "De la même manière ajouter un filtre vert sur l'image."
   ]
  },
  {
   "cell_type": "code",
   "execution_count": 13,
   "metadata": {
    "tags": []
   },
   "outputs": [],
   "source": [
    "matrice=loading(\"CEFvert.png\")\n",
    "def filtre_vert(mat):\n",
    "    res = []\n",
    "    IndexCol = len(matrice[0])\n",
    "    for i in mat:\n",
    "        for u in range(IndexCol):\n",
    "            i[u] = (i[u][0], int(i[u][1] * 1.5), i[u][2], i[u][3])\n",
    "        res.append(i)\n",
    "    return res\n",
    "\n",
    "mat = filtre_vert(matrice)\n",
    "saving(mat,\"CEFvert.png\")"
   ]
  },
  {
   "cell_type": "markdown",
   "metadata": {},
   "source": [
    "Créer une méthode qui permet d'afficher le négatif de l'image."
   ]
  },
  {
   "cell_type": "code",
   "execution_count": 14,
   "metadata": {},
   "outputs": [],
   "source": [
    " matrice=loading(\"retro.png\")\n",
    "\n",
    "def negatif(mat):   \n",
    "    res = []\n",
    "    IndexCol = nbrCol(matrice)\n",
    "    for i in mat:\n",
    "        for u in range(IndexCol):\n",
    "            i[u] = (255 - i[u][0], 255 - i[u][1], 255 - i[u][2], i[u][3])\n",
    "        res.append(i)\n",
    "    return res\n",
    "\n",
    "negatif(matrice)\n",
    "saving(matrice,\"CEFnegatif.png\")"
   ]
  },
  {
   "cell_type": "markdown",
   "metadata": {},
   "source": [
    "Créer une méthode qui permet d'afficher le symétrique de l'image par rapport à la droite verticale en son milieu."
   ]
  },
  {
   "cell_type": "code",
   "execution_count": 15,
   "metadata": {},
   "outputs": [],
   "source": [
    " matrice=loading(\"retro.png\")\n",
    "\n",
    "def symetrique(mat):   \n",
    "    res = []\n",
    "    IndexColHalf = nbrCol(matrice) // 2\n",
    "    for i in mat:\n",
    "        i = i[:IndexColHalf]\n",
    "        n = i.copy()\n",
    "        n.reverse()\n",
    "        i.extend(n)\n",
    "        res.append(i)\n",
    "    return res\n",
    "\n",
    "mat = symetrique(matrice)\n",
    "saving(mat,\"CEFSym.png\")"
   ]
  },
  {
   "cell_type": "code",
   "execution_count": 16,
   "metadata": {},
   "outputs": [
    {
     "output_type": "execute_result",
     "data": {
      "text/plain": [
       "tuple"
      ]
     },
     "metadata": {},
     "execution_count": 16
    }
   ],
   "source": [
    "type((1, 2, 3))"
   ]
  },
  {
   "cell_type": "code",
   "execution_count": null,
   "metadata": {},
   "outputs": [],
   "source": []
  }
 ],
 "metadata": {
  "kernelspec": {
   "display_name": "Python 3",
   "language": "python",
   "name": "python3"
  },
  "language_info": {
   "codemirror_mode": {
    "name": "ipython",
    "version": 3
   },
   "file_extension": ".py",
   "mimetype": "text/x-python",
   "name": "python",
   "nbconvert_exporter": "python",
   "pygments_lexer": "ipython3",
   "version": "3.8.5-final"
  }
 },
 "nbformat": 4,
 "nbformat_minor": 4
}